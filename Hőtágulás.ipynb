{
 "cells": [
  {
   "cell_type": "markdown",
   "metadata": {},
   "source": [
    "## Hőtágulás\n",
    "\n",
    "### Hőmérsékleti skálák\n",
    "- Fahrenheit-skála\n",
    "    - Az 1700-as évektől széles körben használják, napjainkban főképp az amerikai kontinensen.  \n",
    "      A Fahrenheit-skála nullpontja a kísérleti úton előállított legjobban lehűlő sós oldat fagyáspontja, a másik alappontja az emberi test hőmérséklete volt, amely hőtartományt az oszthatóság kedvéért 96 egységre bontotta (így a víz fagyáspontja épp 32 °F).\n",
    "    - Mértékegysége: °F (Fahrenheit-fok)\n",
    "- Celsius-skála\n",
    "    - A legelterjedtebb hőmérsékleti skála a hétköznapi életben, az európai kontinensen.\n",
    "      Ezen a skálán légköri nyomás mellett az olvadó jég hőmérséklete jelenti a 0° értéket, a forrásban levő víz hőmérséklete pedig a 100°. Egysége tehát ennek az intervallumnak az $\\frac{1}{100}$-ad része.\n",
    "    - Mértékegysége: °C (Celsius-fok).\n",
    "- Kelvin-skála\n",
    "    - A kelvin SI-alapegység. A kelvinben és a Celsius-fokban mért hőmérséklet-különbség számértéke azonos. A Kelvin-skála a Celsius-fokhoz képest 273,15 fokkal el van tolva. 0 K egyenlő az abszolút nulla fokkal (-273,15 °C), ahol a részecskék hőenergiája nullára csökken. \n",
    "    - Tudományos, és mérnöki számításokban használják.\n",
    "    \n",
    "### Hőtágulási jelenség a gyakorlatban\n",
    "\n",
    "- [Jégkrém széf a hőtágulás elvén](https://youtu.be/9e9D7ABgHpU?t=74)\n",
    "    - A videó részletében (1:14-től) látható mérnök készített egy tárolót, amely a hőtágulás segítségével képes záródni és biztonságban tartani a tartalmát azok elől, akik nem ismerik a működését.\n",
    "    - Működése egyszerű; két különböző hőtágulási együtthatóval rendelkező fémből áll. A fedő másfélszer annyit megy össze, mint a tároló teste, ezáltal bizonyos hőfok alatt tökéletesen lezárja a tárolót.\n",
    "- Hidak\n",
    "    - A hidak tervezésénél számolni kell az anyag bizonyos szintű tágulásával, illetve összemenésével. Úgy nevezett \"dilatációs réseket\" kell hagyni, hogy bizonyos határokon belül ne okozzon problémákat (gyűrődéseket, repedéseket, akár a híd összeomlását) a hőtágulás.\n",
    "- Vasút\n",
    "    - A vasutak is ki vannak téve a hőtágulás hatásainak, a megoldás itt is hasonló, mint a hidaknál. Bizonyos távonként \"dilatációs réseket\" hagynak a vasutakban.\n",
    "- Vezetékek\n",
    "    - A vezetékeket nem feszítik meg teljesen telepítésükkor, hogy ha a hideg időben összemennek, akkor se döntsék meg az oszlopokat vagy pattanjanak el.\n",
    "    - Ha egy vezetéknek mindig feszesnek kell lennie, akkor az oszlopoknál súlyokkal és csigával szokták feszíteni, hogy a hőtágulás erejét a súlyok helyzeti energiává alakítsák át.\n",
    "\n",
    "### A víz különös viselkedése\n",
    "\n",
    "- A víz 0 °C-tól 4 °C-ig nem tágul, hanem összehúzódik.\n",
    "- A víz kivételes viselkedését jól láthatóvá tehetjük, ha 1 kg víz térfogatát ábrázoljuk a hőmérséklet függvényében 0 °C-tól 10 °C-ig, vagy ha táblázatban adjuk meg a víz sűrűségének és 1 kg víz térfogatának az értékeit akár magasabb hőmérsékleteken is. Megállapíthatjuk, hogy a víz sűrűsége 4 °C-on a legnagyobb, hiszen adott mennyiségű víz térfogata 4 °C-on a legkisebb.\n",
    "- A víz hőtágulása magasabb hőmérsékleteken sem lineáris. A víz fagyáskor sem követi a legtöbb folyadékra jellemző viselkedést, vagyis fagyásakor nem összehúzódik, hanem kitágul, tehát a jég könnyebb (kisebb sűrűségű), mint a víz. Tiszta víz esetén a fagyáskor fellépő sűrűségcsökkenés 8 %-os, ami igen nagy érték.\n",
    "\n",
    "![1 kg víz térfogata a hőmérséklet függvényében 0 C fok-tól 10 C fok-ig](10hotagulas_folyadek3.jpg)"
   ]
  },
  {
   "cell_type": "markdown",
   "metadata": {},
   "source": [
    "### 757.\n",
    "\n",
    "Egy réz egyforintos átmérője szobahőmérsékleten ($ 20\\,^{\\circ}C $) $ 16.5\\,{mm} $, vonalas hőtágulási együtthatója $ 1.8 \\cdot 10^{-5}\\,^{\\circ}C^{-1} $.  \n",
    "Mennyivel növekszik a pénzérme területe, ha tartósan a zsebünkben van és testhőmérsékletre melegszik ($ 36\\,^{\\circ}C $)?\n",
    "\n",
    "----\n",
    "\n",
    "$ \\def\\doubleunderline#1{\\underline{\\underline{#1}}} $\n",
    "$ \\alpha = 1.8 \\cdot 10^{-5}\\,\\frac{1}{^{\\circ}C} $\n",
    "\n",
    "$ t_0 = 20\\,^{\\circ}C $\n",
    "\n",
    "$ t_1 = 36\\,^{\\circ}C $\n",
    "\n",
    "$ d_0 = 16.5\\,{mm} $\n",
    "\n",
    "$ \\Delta t = t_1 - t_0 = 36\\,^{\\circ}C - 20\\,^{\\circ}C = \\underline{16\\,^{\\circ}C} $\n",
    "\n",
    "$ d_1 = d_0\\left(1+\\alpha \\cdot \\Delta t\\right) = 16.5\\,{mm} \\cdot \\left(1+1.8 \\cdot 10^{-5}\\,\\frac{1}{^{\\circ}C} \\cdot 16\\,^{\\circ}C \\right) = \\underline{16.504752\\,{mm}} $\n",
    "\n",
    "$ A_0 = \\left(\\dfrac{d_0}{2}\\right)^2 \\cdot \\pi = \\left(\\dfrac{16.5\\,{mm}}{2}\\right)^2 \\cdot \\pi = \\underline{213.82\\,{mm}^2} $\n",
    "\n",
    "$ A_1 = \\left(\\dfrac{d_1}{2}\\right)^2 \\cdot \\pi = \\left(\\dfrac{16.504752\\,{mm}}{2}\\right)^2 \\cdot \\pi = \\underline{213.94\\,{mm}^2} $\n",
    "\n",
    "$ \\Delta A = A_1 - A_0 = 213.94\\,{mm}^2 - 213.82\\,{mm}^2 = \\doubleunderline{0.12\\,{mm}^2} $"
   ]
  }
 ],
 "metadata": {
  "kernelspec": {
   "display_name": "Python 3",
   "language": "python",
   "name": "python3"
  },
  "language_info": {
   "codemirror_mode": {
    "name": "ipython",
    "version": 3
   },
   "file_extension": ".py",
   "mimetype": "text/x-python",
   "name": "python",
   "nbconvert_exporter": "python",
   "pygments_lexer": "ipython3",
   "version": "3.8.6"
  }
 },
 "nbformat": 4,
 "nbformat_minor": 4
}
