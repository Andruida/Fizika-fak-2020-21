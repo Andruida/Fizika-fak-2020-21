{
 "cells": [
  {
   "cell_type": "markdown",
   "metadata": {},
   "source": [
    "### Mechanikai rezgések csoportosítása\n",
    "\n",
    "- **Szabad rezgés**\n",
    "    Szabad rezgés akkor alakul ki, ha egy mechanikai rendszert kezdeti állapotba „húzunk fel”, majd engedjük, hogy szabadon rezegjen. Ennek példája lehet az, ha egy gyereket meglendítünk a hintán, majd magára hagyjuk, vagy megütünk egy hangvillát és hagyjuk zengeni. A mechanikai rendszer ekkor rezgéseket fog végezni egy vagy több sajátfrekvenciájával, majd a rezgés csillapodik és megáll.\n",
    "    \n",
    "\n",
    "- **Gerjesztett rezgés**\n",
    "    Gerjesztett rezgés során a mechanikai rendszerre alternáló erő vagy mozgás hat. Példa erre egy rosszul kiegyensúlyozott mosógép rázkódása, a közlekedés okozta rezgés (melyet elhaladó teherautó okoz) vagy egy épület rezgése földrengés folyamán."
   ]
  },
  {
   "cell_type": "markdown",
   "metadata": {},
   "source": [
    "### 1. feladat\n",
    "\n",
    "$ m_0 = 50\\,dkg = 0.5\\,kg $  \n",
    "$ \\Delta l = 4\\,cm = 0.04\\,m $  \n",
    "$ T = 1\\,s $  \n",
    "$ m =\\,? $\n",
    "\n",
    "----\n",
    "\n",
    "$ T = \\sqrt{\\dfrac{m}D} $  \n",
    "$ m = T^2 \\cdot D $\n",
    "\n",
    "$ D = \\dfrac{F}{\\Delta l} $\n",
    "\n",
    "$ m = T^2 \\cdot \\dfrac{F}{\\Delta l} $\n",
    "\n",
    "$ m = T^2 \\cdot \\dfrac{m_0 \\cdot g}{\\Delta l} $\n",
    "\n",
    "$ m = (1\\,s)^2 \\cdot \\dfrac{0.5\\,kg \\cdot 10\\,\\frac{m}{s}}{0.04\\,m} = 125\\,kg $\n",
    "\n",
    "### 2. feladat\n",
    "\n",
    "$ T = 2\\pi \\cdot \\sqrt{\\dfrac{l}{g}} $\n",
    "\n",
    "$ l = \\dfrac{g \\cdot T^2}{4 \\pi^2} $\n",
    "\n",
    "----\n",
    "\n",
    "$ g = 10\\,\\frac{m}{s^2} $  \n",
    "$ T = 1.2\\,s $\n",
    "\n",
    "----\n",
    "\n",
    "$ l = \\dfrac{10\\,\\frac{m}{s^2} \\cdot (1.2\\,s)^2}{4 \\pi^2} = 0.36\\,m $\n",
    "\n",
    "----\n",
    "\n",
    "$ g = 1.625 \\,\\frac{m}{s^2} $  \n",
    "$ T = 1.2\\,s $\n",
    "\n",
    "----\n",
    "\n",
    "$ l = \\dfrac{1.625\\,\\frac{m}{s^2} \\cdot (1.2\\,s)^2}{4 \\pi^2} = 0.06\\,m $"
   ]
  }
 ],
 "metadata": {
  "kernelspec": {
   "display_name": "Python 3",
   "language": "python",
   "name": "python3"
  },
  "language_info": {
   "codemirror_mode": {
    "name": "ipython",
    "version": 3
   },
   "file_extension": ".py",
   "mimetype": "text/x-python",
   "name": "python",
   "nbconvert_exporter": "python",
   "pygments_lexer": "ipython3",
   "version": "3.8.6"
  }
 },
 "nbformat": 4,
 "nbformat_minor": 4
}
