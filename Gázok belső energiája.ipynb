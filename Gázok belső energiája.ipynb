{
 "cells": [
  {
   "cell_type": "markdown",
   "metadata": {},
   "source": [
    "**884.** Egy tartályban $ 0.06\\,kg $ tömegű hélium és $ 0.22\\,kg $ tömegű neon gáz van. Az elegy nyomása $ 2 \\cdot 10^5\\,Pa $, a hőmérséklet $ 63\\,^{\\circ}C $. A hélium egy móljának tömege $4\\,g$, a neoné $20\\,g$.\n",
    "\n",
    "$ a) $ Mekkora a tartály térfogata?  \n",
    "$ b) $ Mekkora a gázatomok átlagos mozgási energiája?\n",
    "\n",
    "----\n",
    "$ \\def\\doubleunderline#1{\\underline{\\underline{#1}}} $  \n",
    "$\n",
    "m_{He} = 0.06\\,kg \\\\\n",
    "M_{He} = 4\\,\\tfrac{g}{mol} = 0.004\\,\\tfrac{kg}{mol} \\\\\n",
    "m_{Ne} = 0.22\\,kg \\\\\n",
    "M_{Ne} = 20\\,\\tfrac{g}{mol} = 0.02\\,\\tfrac{kg}{mol} \\\\\n",
    "p = 2 \\cdot 10^5\\,Pa \\\\\n",
    "T = 63\\,^{\\circ}C = 336\\,K \\\\\n",
    "f = 3\n",
    "$\n",
    "\n",
    "----\n",
    "$a)$\n",
    "$\n",
    "\\begin{align*}\n",
    "p \\cdot V &= \\dfrac{m}{M} \\cdot R \\cdot T \\\\\n",
    "V &= \\dfrac{m \\cdot R \\cdot T}{M \\cdot p} \\\\\n",
    "V_{He} &= \\dfrac{0.06\\,kg \\cdot 8.314\\,\\tfrac{J}{mol \\cdot K} \\cdot 336\\,K}{0.004\\,\\tfrac{kg}{mol} \\cdot 2 \\cdot 10^5\\,Pa} = \\underline{0.21\\,m^3} \\\\\n",
    "V_{Ne} &= \\dfrac{0.22\\,kg \\cdot 8.314\\,\\tfrac{J}{mol \\cdot K} \\cdot 336\\,K}{0.02\\,\\tfrac{kg}{mol} \\cdot 2 \\cdot 10^5\\,Pa} = \\underline{0.154\\,m^3} \\\\\n",
    "V &= V_{He} + V_{Ne} = 0.21\\,m^3 + 0.154\\,m^3 = 0.3631\\,m^3 = \\doubleunderline{363.1\\,dm^3}\n",
    "\\end{align*}\n",
    "$\n",
    "\n",
    "$b)$\n",
    "$\n",
    "\\begin{align*}\n",
    "\\varepsilon &= \\dfrac{f}{2} \\cdot k \\cdot T \\\\\n",
    "\\varepsilon &= \\dfrac{3}{2} \\cdot 1.38\\cdot 10^{-23}\\,\\frac{J}{K} \\cdot 336\\,K = \\doubleunderline{6.95 \\cdot 10^{-21}\\,J}\n",
    "\\end{align*}\n",
    "$\n",
    "\n",
    "----"
   ]
  },
  {
   "cell_type": "markdown",
   "metadata": {},
   "source": [
    "**889.** Egy $ 5\\,l $-es tartályban $ 8 \\cdot 10^5\\,Pa $ nyomású, $ 50\\,^{\\circ}C $-os egyatomos gáz van.\n",
    "\n",
    "$ a) $ Hány gázatom van a tartályban?  \n",
    "$ b) $ Mekkora a tartályban levő gáz belső energiája?\n",
    "\n",
    "----\n",
    "\n",
    "$\n",
    "\\begin{align*}\n",
    "V &= 5\\,l \\implies 5\\,dm^3 = 5\\cdot 10^{-3}\\,m^3\\\\\n",
    "p &= 8 \\cdot 10^5\\,Pa \\\\\n",
    "T &= 50\\,^{\\circ}C = 323\\,K \\\\\n",
    "f &= 3\n",
    "\\end{align*}\n",
    "$\n",
    "\n",
    "----\n",
    "$a)$\n",
    "$\n",
    "\\begin{align*}\n",
    "pV &= NkT \\\\\n",
    "N &= \\dfrac{pV}{kT} = \\dfrac{8 \\cdot 10^5\\,Pa \\cdot 5\\cdot 10^{-3}\\,m^3}{1.38\\cdot 10^{-23}\\,\\frac{J}{K} \\cdot 323\\,K} = \\doubleunderline{8.97 \\cdot 10^{23}\\,db} \\\\\n",
    "\\end{align*}\n",
    "$\n",
    "\n",
    "$b)$\n",
    "$\n",
    "\\begin{align*}\n",
    "E &= \\dfrac{f}{2} \\cdot N \\cdot k \\cdot T \\\\\n",
    "E &= \\dfrac{f}{2} \\cdot \\dfrac{pV}{kT} \\cdot k \\cdot T \\\\\n",
    "E &= \\dfrac{f}{2} \\cdot p \\cdot V \\\\\n",
    "E &= \\dfrac{3}{2} \\cdot 8 \\cdot 10^5\\,Pa \\cdot 5\\cdot 10^{-3}\\,m^3 = \\doubleunderline{6\\,000\\,J}\n",
    "\\end{align*}\n",
    "$"
   ]
  }
 ],
 "metadata": {
  "kernelspec": {
   "display_name": "Python 3",
   "language": "python",
   "name": "python3"
  },
  "language_info": {
   "codemirror_mode": {
    "name": "ipython",
    "version": 3
   },
   "file_extension": ".py",
   "mimetype": "text/x-python",
   "name": "python",
   "nbconvert_exporter": "python",
   "pygments_lexer": "ipython3",
   "version": "3.8.6"
  }
 },
 "nbformat": 4,
 "nbformat_minor": 4
}
