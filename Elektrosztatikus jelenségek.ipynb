{
 "cells": [
  {
   "cell_type": "markdown",
   "metadata": {},
   "source": [
    "### Villámhárító\n",
    "Elsődleges feladata egy villámcsapás megelőzése azáltal, hogy a védelmi terében felhalmozódó töltéseket elvezeti, ezzel egy villámcsapás esélyét csökkentve. Ha mégis bekövetkezik egy villámcsapás, azt is elvezeti, viszont annak hatása a villámhárítóra akár megsemmisítő hatásű is lehet.  \n",
    "Villámhárító nélkül egy közeli villámcsapás az épületben a töltésmegosztás miatt tüzet vagy az elektromos készülékek tönkremenetelét okozhatja, esetleg a benn tartózkodók életét veszélyezteti.\n",
    "\n",
    "Részei:\n",
    "- Felfogó (többynire az épület tetején)\n",
    "- Vezető (többnyire vastag acélsodrony)\n",
    "- Villámvédelmileg minősített földelés\n",
    "\n",
    "### Csúcshatás\n",
    "Egy feltöltött fémtesten a töltés nem egyenletesen oszlik el. A csúcsokon nagyobb a töltéssűrűség és így a közelében a térerősség, mint az enyhe görbületű helyeken. Erre a magyarázat, hogy a töltések a felületen próbálnak egyenletesen elhelyezkedni, viszont egy csúcsnál a töltések közelebb kerülnek egymáshoz (mivel a test felületei is közelebb kerülnek). A töltések emiatt elkezdik taszítani egymást és töltések elkezdenek átugrani a csúcsnál elhelyezkedő levegő molekulákra, amiket innentől a többi töltés eltaszít maguktól. Ezáltal egyfajta \"elektromos szél\" figyelhető meg.\n",
    "\n",
    "### Faraday kalitka\n",
    "Az elektromágneses hatás kiküszöbölésére szolgáló, fémhálóval körülvett térrész, amelyben a gyorsan változó elektromágneses mezők térerőssége nulla. Lassan változó elektromágneses mezőktől nem véd (pl Föld mágneses mezeje).  \n",
    "A Faraday-kalitka hatékonysága függ a kalitkát alkotó vezetőszálak közötti távolságtól (minél kisebb a távolság, annál biztonságosabb), függ a vezetők ellenállásától (minél kisebb, annál biztonságosabb), és a levegő pára-, por- és iontartalmától.\n",
    "\n",
    "---"
   ]
  },
  {
   "cell_type": "markdown",
   "metadata": {},
   "source": [
    "### Feladat\n",
    "\n",
    "**974.** Súlytalannak tekinthető fonálon $20~g$ tömegű fémgolyó függ, töltése $ 9 \\cdot 10^{-8}~C $. A töltés pozitív és az erővonalak függőlegesen lefelé mutató irányúak.  \n",
    "Mekkora a $ 15~cm $ hosszú fonálinga lengésideje $ 9 \\cdot 10^6 \\dfrac{N}{C} $ erősségű homogén mezőben?\n",
    "$\\def\\doubleunderline#1{\\underline{\\underline{#1}}}$\n",
    "\n",
    "---\n",
    "\n",
    "$\n",
    "\\begin{align*}\n",
    "m &= 20~g = 0.02~kg \\\\\n",
    "l &= 15~cm = 0.15~m \\\\\n",
    "Q &= 9 \\cdot 10^{-8}~C \\\\\n",
    "E &= 9 \\cdot 10^6 \\frac{N}{C} \\\\\n",
    "\\end{align*}\n",
    "$\n",
    "\n",
    "---\n",
    "\n",
    "Egy egyszerű matematikai inga lengésideje kifejezhető a következőképp:\n",
    "\n",
    "$T = 2\\pi \\sqrt{\\dfrac{l}{g}}$\n",
    "\n",
    "Az elektromos mezőből eredő erő gyorsulása a gravitáció mellett hat, így az hozzáadódik a gravitációéhoz. Ezáltal módosítsuk a képletet, hogy tartalmazza az elektromos mező által kifejtett gyorsulást: $ F = E \\cdot Q $ és $ a = \\dfrac{F}{m} \\implies a = \\dfrac{E \\cdot Q}{m} $\n",
    "\n",
    "$\n",
    "\\begin{align*}\n",
    "T &= 2\\pi \\sqrt{\\dfrac{l}{g + \\dfrac{E \\cdot Q}{m}}} \\\\\n",
    "T &= 2\\pi \\sqrt{\\dfrac{0.15~m}{10~\\frac{m}{s^2} + \\frac{9 \\cdot 10^6 \\frac{N}{C} \\cdot 9 \\cdot 10^{-8}~C}{0.02~kg}}} = \\doubleunderline{0.342~s}\n",
    "\\end{align*}\n",
    "$"
   ]
  }
 ],
 "metadata": {
  "kernelspec": {
   "display_name": "Python 3",
   "language": "python",
   "name": "python3"
  },
  "language_info": {
   "codemirror_mode": {
    "name": "ipython",
    "version": 3
   },
   "file_extension": ".py",
   "mimetype": "text/x-python",
   "name": "python",
   "nbconvert_exporter": "python",
   "pygments_lexer": "ipython3",
   "version": "3.8.6"
  }
 },
 "nbformat": 4,
 "nbformat_minor": 4
}
