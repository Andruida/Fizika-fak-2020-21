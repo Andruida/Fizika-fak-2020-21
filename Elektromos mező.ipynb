{
 "cells": [
  {
   "cell_type": "markdown",
   "metadata": {},
   "source": [
    "**964.** Mekkora a térerősség $ 10^{-3}~C $ pontszerű töltéstől $ 20~m $-re?  \n",
    "Mekkora erő hat az ide helyezett $ 10^{-7}~C $ töltésre?\n",
    "$\\def\\doubleunderline#1{\\underline{\\underline{#1}}}$\n",
    "\n",
    "----\n",
    "\n",
    "$\n",
    "\\begin{align*}\n",
    "Q_1 &= 10^{-3}~C\\\\\n",
    "r &= 20~m\\\\\n",
    "Q_2 &= 10^{-7}~C\\\\\n",
    "E &=~? \\\\\n",
    "F &=~? \n",
    "\\end{align*}\n",
    "$\n",
    "\n",
    "---\n",
    "\n",
    "$a)$\n",
    "$\n",
    "\\begin{align*}\n",
    "E &= k \\cdot \\dfrac{Q_1}{r^2} \\\\\n",
    "E &= 8.988 \\cdot 10^9~Nm^2C^{-2} \\cdot \\dfrac{10^{-3}~C}{\\left(20~m\\right)^2} = \\doubleunderline{22470~\\frac{N}{C}} \n",
    "\\end{align*}\n",
    "$\n",
    "\n",
    "$b)$\n",
    "$\n",
    "\\begin{align*}\n",
    "F &= k \\cdot \\dfrac{Q_1 \\cdot Q_2}{r^2} \\\\\n",
    "F &= 8.988 \\cdot 10^9~Nm^2C^{-2} \\cdot \\dfrac{10^{-3}~C \\cdot 10^{-7}~C}{\\left(20~m\\right)^2} = 0.002247~N = \\doubleunderline{2.247 \\cdot 10^{-3}~N}\n",
    "\\end{align*}\n",
    "$\n",
    "\n",
    "----"
   ]
  },
  {
   "cell_type": "markdown",
   "metadata": {},
   "source": [
    "**970.** Egy mozgásban levő elektronra, sebességével egyező irányban, $ 3000~\\frac{N}{C} $ homogén elektromos mező hat. Ha az elektron kezdeti sebessége $ 3 \\cdot 10^6~\\frac{m}{s} $, mekkora utat tesz meg a megállásig?\n",
    "\n",
    "----\n",
    "\n",
    "$\n",
    "\\begin{align*}\n",
    "E &= 3000~\\frac{N}{C} \\\\\n",
    "v_0 &= 3 \\cdot 10^6~\\frac{m}{s}\n",
    "\\end{align*}\n",
    "$\n",
    "\n",
    "----\n",
    "\n",
    "$\n",
    "\\begin{align*}\n",
    "s &= \\dfrac{a}{2}\\cdot t^2 \\\\\n",
    "s &= \\dfrac{a}{2}\\cdot \\dfrac{s^2}{v^2} \\\\\n",
    "s &= 2 \\cdot v^2 \\cdot \\dfrac{1}{a} \\\\\n",
    "s &= 2 \\cdot v^2 \\cdot \\dfrac{m}{F} \\\\\n",
    "s &= 2 \\cdot v^2 \\cdot \\dfrac{m}{E \\cdot Q} \\\\\n",
    "s &= 2 \\cdot \\left(3 \\cdot 10^6~\\frac{m}{s}\\right)^2 \\cdot \\dfrac{9.1 \\cdot 10^{-31}~kg}{3000~\\frac{N}{C} \\cdot 6.1 \\cdot 10^{-19}~C} = 8.95 \\cdot 10^{-3}~m = \\doubleunderline{8.95~mm}\n",
    "\\end{align*}\n",
    "$\n",
    "\n",
    "----"
   ]
  },
  {
   "cell_type": "markdown",
   "metadata": {},
   "source": [
    "**971.** Két egynemű ponttöltés $ 25~cm $ távol van egymástól. Van-e olyan pont ahol a térerősség zérus, ha $ Q_1 = 10^{-8}~C $, $ Q_2 = 1.5 \\cdot 10^{-8}~C $?\n",
    "\n",
    "---\n",
    "\n",
    "$\n",
    "\\begin{align*}\n",
    "Q_1 &= 10^{-8}~C \\\\\n",
    "Q_2 &= 1.5 \\cdot 10^{-8}~C \\\\\n",
    "r &= 25~cm = 0.25~m\n",
    "\\end{align*}\n",
    "$\n",
    "\n",
    "---\n",
    "\n",
    "$\n",
    "E = k \\cdot \\dfrac{Q}{r^2} \\\\\n",
    "$\n",
    "$x$ jelölje az első ponttól való távolságot\n",
    "$ \\\\\n",
    "\\begin{align*}\n",
    "k \\cdot \\dfrac{Q_1}{x^2} &= k \\cdot \\dfrac{Q_2}{\\left(r-x\\right)^2} \\\\\n",
    "\\dfrac{Q_1}{x^2} &= \\dfrac{Q_2}{\\left(r-x\\right)^2} \\\\\n",
    "\\dfrac{10^{-8}~C}{x^2} &= \\dfrac{1.5 \\cdot 10^{-8}~C}{\\left(0.25~m-x\\right)^2} \\\\\n",
    "x &= 0.1123~m = \\doubleunderline{11.23~cm}\n",
    "\\end{align*}\n",
    "$"
   ]
  }
 ],
 "metadata": {
  "kernelspec": {
   "display_name": "Python 3",
   "language": "python",
   "name": "python3"
  },
  "language_info": {
   "codemirror_mode": {
    "name": "ipython",
    "version": 3
   },
   "file_extension": ".py",
   "mimetype": "text/x-python",
   "name": "python",
   "nbconvert_exporter": "python",
   "pygments_lexer": "ipython3",
   "version": "3.8.6"
  }
 },
 "nbformat": 4,
 "nbformat_minor": 4
}
