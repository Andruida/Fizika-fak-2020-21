{
 "cells": [
  {
   "cell_type": "markdown",
   "metadata": {},
   "source": [
    "**930.** Milyen távol van egymástól az a két pontszerű test, amelyeknek töltése $ 10^{-7}~C $ és $ 2.5 \\cdot 10^{-7}~C $ és $ 0.12~N $ erővel taszítják egymást?\n",
    "\n",
    "----\n",
    "$\\def\\doubleunderline#1{\\underline{\\underline{#1}}}$\n",
    "$\n",
    "\\begin{align*}\n",
    "F &= 0.12~N \\\\\n",
    "Q_1 &= 10^{-7}~C \\\\\n",
    "Q_2 &= 2.5 \\cdot 10^{-7}~C \\\\\n",
    "r &=~?\n",
    "\\end{align*}\n",
    "$\n",
    "\n",
    "----\n",
    "\n",
    "$\n",
    "\\begin{align*}\n",
    "F &= k \\cdot \\dfrac{Q_1 \\cdot Q_2}{r^2} \\\\\n",
    "r &= \\sqrt{\\dfrac{k \\cdot Q_1 \\cdot Q_2}{F}} \\\\\n",
    "r &= \\sqrt{\\dfrac{8.988 \\cdot 10^9~Nm^2C^{-2} \\cdot 10^{-7}~C \\cdot 2.5 \\cdot 10^{-7}~C}{0.12~N}} = 0.0433~m = \\doubleunderline{4.33~cm} \\\\\n",
    "\\end{align*}\n",
    "$\n",
    "\n",
    "----"
   ]
  },
  {
   "cell_type": "markdown",
   "metadata": {},
   "source": [
    "**931.** Mekkora két egyenlő töltés taszítja egymást $ 94.5~km $ távolságból $ 1~N $ erővel?\n",
    "\n",
    "$\n",
    "\\begin{align*}\n",
    "r &= 94.5~km = 94500~m \\\\\n",
    "F &= 1~N \\\\\n",
    "Q &= ~?\n",
    "\\end{align*}\n",
    "$\n",
    "\n",
    "----\n",
    "\n",
    "$\n",
    "\\begin{align*}\n",
    "F &= k \\cdot \\dfrac{Q^2}{r^2} \\\\\n",
    "Q &= \\sqrt{\\dfrac{F \\cdot r^2}{k}} \\\\\n",
    "Q &= \\sqrt{\\dfrac{1~N \\cdot \\left(94500~m\\right)^2}{8.988 \\cdot 10^9~Nm^2C^{-2}}} = \\doubleunderline{0.997~C}\n",
    "\\end{align*}\n",
    "$\n",
    "\n",
    "---"
   ]
  },
  {
   "cell_type": "markdown",
   "metadata": {},
   "source": [
    "**935.** Egy $ 1.6 \\cdot 10^{-6}~C $ és egy $ -8 \\cdot 10^{-7}~C $ pontszerű töltés egymástól $ 24~cm $-re van. E töltések által meghatározott egyenesen hol van egyensúlyban egy $ 10^{-8}~C $ pontszerű töltés?  \n",
    "Milyen egyensúlyi helyzet ez?\n",
    "\n",
    "---\n",
    "\n",
    "$\n",
    "\\begin{align*}\n",
    "Q_1 &= 1.6 \\cdot 10^{-6}~C \\\\\n",
    "Q_2 &= -8 \\cdot 10^{-7}~C \\\\\n",
    "Q &= 10^{-8}~C \\\\\n",
    "r_0 &= 24~cm = 0.24~m \\\\\n",
    "r &= ~?\n",
    "\\end{align*}\n",
    "$\n",
    "\n",
    "---\n",
    "\n",
    "$\n",
    "\\begin{align*}\n",
    "\\dfrac{Q_1 \\cdot Q}{\\right(r + r_0\\left)^2} &= \\dfrac{Q_2 \\cdot Q}{r^2}\n",
    "\\end{align*}\n",
    "$\n",
    "\n",
    "---"
   ]
  },
  {
   "cell_type": "code",
   "execution_count": null,
   "metadata": {},
   "outputs": [],
   "source": []
  }
 ],
 "metadata": {
  "kernelspec": {
   "display_name": "Python 3",
   "language": "python",
   "name": "python3"
  },
  "language_info": {
   "codemirror_mode": {
    "name": "ipython",
    "version": 3
   },
   "file_extension": ".py",
   "mimetype": "text/x-python",
   "name": "python",
   "nbconvert_exporter": "python",
   "pygments_lexer": "ipython3",
   "version": "3.8.6"
  }
 },
 "nbformat": 4,
 "nbformat_minor": 4
}
